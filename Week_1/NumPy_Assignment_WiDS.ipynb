{
  "cells": [
    {
      "cell_type": "markdown",
      "metadata": {
        "id": "view-in-github",
        "colab_type": "text"
      },
      "source": [
        "<a href=\"https://colab.research.google.com/github/tejask-42/Speech-Emotion-Recognition-Project/blob/main/Week_1/NumPy_Assignment_WiDS.ipynb\" target=\"_parent\"><img src=\"https://colab.research.google.com/assets/colab-badge.svg\" alt=\"Open In Colab\"/></a>"
      ]
    },
    {
      "cell_type": "markdown",
      "metadata": {
        "id": "qGiC9skYaV6P"
      },
      "source": [
        "## NumPy Assignment"
      ]
    },
    {
      "cell_type": "markdown",
      "metadata": {
        "id": "2KTtPs2vaV6Q"
      },
      "source": [
        "This assignment will introduce you to the NumPy library and demonstrate how vectorization can significantly accelerate computations compared to traditional iterative approaches.\n",
        "\n",
        "You are to only write/modify the code in between consecutive # < START > and # < END > comments. DO NOT modify other parts of the notebook."
      ]
    },
    {
      "cell_type": "markdown",
      "metadata": {
        "id": "aWb_3QhsaV6R"
      },
      "source": [
        "**Start by running the below cell, to import the NumPy library.**"
      ]
    },
    {
      "cell_type": "code",
      "execution_count": null,
      "metadata": {
        "id": "OqxNe1SRaV6R"
      },
      "outputs": [],
      "source": [
        "import numpy as np"
      ]
    },
    {
      "cell_type": "markdown",
      "metadata": {
        "id": "dTQC_iiOaV6R"
      },
      "source": [
        "### Initialising arrays\n",
        "NumPy offers multiple methods to create and populate arrays, one of them is using the `np.array()` function.\n",
        "\n",
        "Create the following matrix with the variable arr : $$ \\begin{bmatrix}\n",
        "1 & 2 & 3 \\\\\n",
        "4 & 5 & 6 \\\\\n",
        "7 & 8 & 9\n",
        "\\end{bmatrix} $$"
      ]
    },
    {
      "cell_type": "code",
      "execution_count": null,
      "metadata": {
        "id": "m-HSOfKUaV6R",
        "colab": {
          "base_uri": "https://localhost:8080/"
        },
        "outputId": "db92830d-2183-4e30-c6f7-5c23786b6984"
      },
      "outputs": [
        {
          "output_type": "stream",
          "name": "stdout",
          "text": [
            "[[1 2 3]\n",
            " [4 5 6]\n",
            " [7 8 9]]\n",
            "Shape:  (3, 3)\n"
          ]
        }
      ],
      "source": [
        "# < START >\n",
        "arr = np.array([[1, 2, 3], [4, 5, 6], [7, 8, 9]])\n",
        "# < END >\n",
        "\n",
        "print(arr)\n",
        "print(\"Shape: \", arr.shape)"
      ]
    },
    {
      "cell_type": "markdown",
      "metadata": {
        "id": "PEjWIRE7aV6S"
      },
      "source": [
        "You can also transpose arrays (same as with matrices), but a more general and commonly used function is the `array.reshape()` function\n",
        "\n",
        "Now create a new array arr_transpose which is transpose of the upper triangular matrix including the diagonal of the above matrix. The upper triangular matrix is the matrix with all elements below the diagonal equal to zero."
      ]
    },
    {
      "cell_type": "code",
      "execution_count": null,
      "metadata": {
        "id": "Xalvjt88aV6S",
        "colab": {
          "base_uri": "https://localhost:8080/"
        },
        "outputId": "a21767cf-ce58-44b7-aa33-038981a06ce2"
      },
      "outputs": [
        {
          "output_type": "stream",
          "name": "stdout",
          "text": [
            "[[1 0 0]\n",
            " [2 5 0]\n",
            " [3 6 9]]\n",
            "Shape:  (3, 3)\n"
          ]
        }
      ],
      "source": [
        "# < START >\n",
        "arr_transpose = np.transpose(np.triu(arr))\n",
        "# < END >\n",
        "\n",
        "print(arr_transpose)\n",
        "print(\"Shape: \", arr_transpose.shape)"
      ]
    },
    {
      "cell_type": "markdown",
      "metadata": {
        "id": "DIL35jMNaV6S"
      },
      "source": [
        "`reshape` is commonly used to flatten data stored in multi-dimensional arrays (ex: a 2D array representing a B/W image)\n",
        "\n",
        "Create a new array arr_flat that contains the same elements as arr but has been flattened to a column array\n",
        "\n",
        "`array.flatten()` converts it into a row array"
      ]
    },
    {
      "cell_type": "code",
      "execution_count": null,
      "metadata": {
        "id": "x_EoLlBPaV6S",
        "colab": {
          "base_uri": "https://localhost:8080/"
        },
        "outputId": "c6fa4c4d-9ccb-415f-e042-03ba205e00d8"
      },
      "outputs": [
        {
          "output_type": "stream",
          "name": "stdout",
          "text": [
            "[[1]\n",
            " [2]\n",
            " [3]\n",
            " [4]\n",
            " [5]\n",
            " [6]\n",
            " [7]\n",
            " [8]\n",
            " [9]]\n",
            "Shape:  (9, 1)\n"
          ]
        }
      ],
      "source": [
        "# < START >\n",
        "arr_flatten = arr.flatten().reshape(-1, 1)\n",
        "# < END >\n",
        "\n",
        "print(arr_flatten)\n",
        "print(\"Shape: \", arr_flatten.shape)"
      ]
    },
    {
      "cell_type": "markdown",
      "metadata": {
        "id": "ZecpMIBYaV6S"
      },
      "source": [
        "A few more basic methods to initialize arrays exist.\n",
        "\n",
        "- Initialize a NumPy array RANDOM_ARR of dimensions $2 \\times 3$ with random values.  Do not use the values of the dimensions directly, instead use the variables provided as arguments. Hint  : `np.random.randn()`"
      ]
    },
    {
      "cell_type": "code",
      "execution_count": null,
      "metadata": {
        "id": "5nz27BraaV6S",
        "colab": {
          "base_uri": "https://localhost:8080/"
        },
        "outputId": "c6f98b55-2e58-4f96-8cfe-445a69e3c61e"
      },
      "outputs": [
        {
          "output_type": "stream",
          "name": "stdout",
          "text": [
            "RANDOM_ARR:  [[ 0.20069567 -0.14560605  1.79187152]\n",
            " [-0.7645036  -0.51443258  2.58638285]]\n"
          ]
        }
      ],
      "source": [
        "# random array\n",
        "n_rows = 2\n",
        "n_cols = 3\n",
        "\n",
        "# < START >\n",
        "RANDOM_ARR = np.random.randn(n_rows, n_cols)\n",
        "# < END >\n",
        "\n",
        "print(\"RANDOM_ARR: \", RANDOM_ARR)"
      ]
    },
    {
      "cell_type": "markdown",
      "metadata": {
        "id": "05zjqmJ1aV6S"
      },
      "source": [
        "- Create a new array ZERO_ARR of dimensions $2 \\times 1 \\times 2$ whose every element is 0"
      ]
    },
    {
      "cell_type": "code",
      "execution_count": null,
      "metadata": {
        "id": "JySwZZQOaV6S",
        "colab": {
          "base_uri": "https://localhost:8080/"
        },
        "outputId": "78e70efe-30a5-4809-8637-5d657c189024"
      },
      "outputs": [
        {
          "output_type": "stream",
          "name": "stdout",
          "text": [
            "ZERO_ARR:  [[[0. 0.]]\n",
            "\n",
            " [[0. 0.]]]\n"
          ]
        }
      ],
      "source": [
        "# zeros array\n",
        "# < START >\n",
        "ZERO_ARR = np.zeros((2, 1, 2))\n",
        "# < END >\n",
        "\n",
        "print(\"ZERO_ARR: \", ZERO_ARR)"
      ]
    },
    {
      "cell_type": "markdown",
      "metadata": {
        "id": "5L727xxZaV6T"
      },
      "source": [
        "- Initialize an array ONE_ARR of dimensions $2 \\times 1 \\times 2$ whose every element is 1"
      ]
    },
    {
      "cell_type": "code",
      "execution_count": null,
      "metadata": {
        "id": "6PM_O6x6aV6T",
        "colab": {
          "base_uri": "https://localhost:8080/"
        },
        "outputId": "46167f93-6e22-4c73-c3f1-1012a7a4c82a"
      },
      "outputs": [
        {
          "output_type": "stream",
          "name": "stdout",
          "text": [
            "ONES_ARR:  [[[1. 1.]]\n",
            "\n",
            " [[1. 1.]]]\n"
          ]
        }
      ],
      "source": [
        "# ones array\n",
        "# < START >\n",
        "ONE_ARR = np.ones((2, 1, 2))\n",
        "# < END >\n",
        "\n",
        "print(\"ONES_ARR: \", ONE_ARR)"
      ]
    },
    {
      "cell_type": "markdown",
      "metadata": {
        "id": "f0d8BmSraV6T"
      },
      "source": [
        "### Multiplying two matrices\n",
        "Matrix multiplication is a binary operation that produces a matrix from two matrices. For matrix multiplication, the number of columns in the first matrix must be equal to the number of rows in the second matrix.\n",
        "\n",
        "`np.dot()` is used to compute the dot product of two arrays. It behaves differently for arrays of different dimensions.\n",
        "\n",
        "\n",
        "- Now, initialise two 1-D arrays A_1 and B_1 of size $3$ with random integers (search a function for integer random numbers in NumPy). Multiply the two arrays and store the result in a new array C_1."
      ]
    },
    {
      "cell_type": "code",
      "execution_count": null,
      "metadata": {
        "id": "I0Y7Uq-naV6T",
        "colab": {
          "base_uri": "https://localhost:8080/"
        },
        "outputId": "18001b6c-e726-47d8-fc63-cf91e452821a"
      },
      "outputs": [
        {
          "output_type": "stream",
          "name": "stdout",
          "text": [
            "A:  [2 7 8]\n",
            "B:  [1 8 9]\n",
            "C:  130\n"
          ]
        }
      ],
      "source": [
        "# < START >\n",
        "A = np.random.randint(10, size=3)\n",
        "B = np.random.randint(10, size=3)\n",
        "C = np.dot(A, B)\n",
        "# < END >\n",
        "\n",
        "assert A.shape == (3,)\n",
        "assert B.shape == (3,)\n",
        "# The line above is an assert statement, which stops the program execution if the specified condition evaluates to False.\n",
        "# Assert statements are commonly used in neural network programs to verify that the matrices have the correct dimensions.\n",
        "\n",
        "print(\"A: \", A)\n",
        "print(\"B: \", B)\n",
        "print(\"C: \", C)"
      ]
    },
    {
      "cell_type": "markdown",
      "metadata": {
        "id": "GiqTVjXNaV6T"
      },
      "source": [
        "- In the next step, initialise two 2-D arrays A_2 and B_2 of dimensions $3 \\times 3$ with random integers. Multiply the two arrays and store the result in a new array C_2."
      ]
    },
    {
      "cell_type": "code",
      "execution_count": null,
      "metadata": {
        "id": "J8kx3p5qaV6T",
        "colab": {
          "base_uri": "https://localhost:8080/"
        },
        "outputId": "f9679527-1365-46ce-e935-2d8cf7b2465a"
      },
      "outputs": [
        {
          "output_type": "stream",
          "name": "stdout",
          "text": [
            "A:  [[9 9 5]\n",
            " [2 1 2]\n",
            " [8 6 6]]\n",
            "B:  [[0 9 5]\n",
            " [3 7 5]\n",
            " [7 7 8]]\n",
            "C:  [[ 62 179 130]\n",
            " [ 17  39  31]\n",
            " [ 60 156 118]]\n"
          ]
        }
      ],
      "source": [
        "# < START >\n",
        "A = np.random.randint(10, size=(3, 3))\n",
        "B = np.random.randint(10, size=(3, 3))\n",
        "C = np.dot(A, B)\n",
        "# < END >\n",
        "\n",
        "assert A.shape == (3,3)\n",
        "assert B.shape == (3,3)\n",
        "\n",
        "print(\"A: \", A)\n",
        "print(\"B: \", B)\n",
        "print(\"C: \", C)"
      ]
    },
    {
      "cell_type": "markdown",
      "metadata": {
        "id": "bpJJbcyraV6T"
      },
      "source": [
        "- In the last step, initialise two 3-D arrays A_3 and B_3 of dimensions $2 \\times 2 \\times 2$ with random integers. Multiply the two arrays and store the result in a new array C_3."
      ]
    },
    {
      "cell_type": "code",
      "execution_count": null,
      "metadata": {
        "id": "y4f6aZcMaV6T",
        "colab": {
          "base_uri": "https://localhost:8080/"
        },
        "outputId": "21433315-1c0a-41ad-f750-2cbb566dcb57"
      },
      "outputs": [
        {
          "output_type": "stream",
          "name": "stdout",
          "text": [
            "A:  [[[9 4]\n",
            "  [3 8]]\n",
            "\n",
            " [[1 6]\n",
            "  [6 6]]]\n",
            "B:  [[[0 3]\n",
            "  [2 5]]\n",
            "\n",
            " [[3 9]\n",
            "  [7 8]]]\n",
            "C:  [[[[  8  47]\n",
            "   [ 55 113]]\n",
            "\n",
            "  [[ 16  49]\n",
            "   [ 65  91]]]\n",
            "\n",
            "\n",
            " [[[ 12  33]\n",
            "   [ 45  57]]\n",
            "\n",
            "  [[ 12  48]\n",
            "   [ 60 102]]]]\n"
          ]
        }
      ],
      "source": [
        "# < START >\n",
        "A = np.random.randint(10, size=(2, 2, 2))\n",
        "B = np.random.randint(10, size=(2, 2, 2))\n",
        "C = np.dot(A, B)\n",
        "# < END >\n",
        "\n",
        "assert A.shape == (2,2,2)\n",
        "assert B.shape == (2,2,2)\n",
        "\n",
        "print(\"A: \", A)\n",
        "print(\"B: \", B)\n",
        "print(\"C: \", C)"
      ]
    },
    {
      "cell_type": "markdown",
      "metadata": {
        "id": "64tiF9JsaV6T"
      },
      "source": [
        "### Indexing and Slicing\n",
        "Indexing and slicing are fundamental techniques for accessing and manipulating elements of an array. Indexing is used to obtain individual elements, while slicing allows you to obtain a subset of the array.\n",
        "\n",
        "**Indexing** retrieves specific elements of an array. In one-dimensional arrays, you use the index position. For multidimensional arrays, elements can be accessed using either `array[i][j]` or `array[i, j]`, where the latter is preferred. The `array[i, j]` notation is more efficient because it avoids creating a temporary intermediate array when resolving the first index, directly retrieving the desired element. This efficiency extends to higher-dimensional arrays, where elements can be accessed across multiple dimensions, e.g., `array[i, j, k]`.\n",
        "\n",
        "**Slicing** extracts portions of an array using the syntax `array[start:end:step]`.\n",
        "- `start`: Specifies where the slice begins (inclusive)\n",
        "- `end`: Specifies where the slice ends (exclusive)\n",
        "- `step`: Determines the interval between indices\n",
        "\n",
        "By default, `start` is `0`, `end` is the length of the array, and `step` is `1`. Slicing can be applied independently across dimensions in multidimensional arrays, separated by commas (e.g., `array[start:end, start:end]`). Importantly, slicing creates a view of the original array, meaning changes to the slice will reflect in the original array. If indices are out of bounds, slicing returns an empty array instead of raising an error.\n",
        "<br>\n",
        "\n",
        "*Phew! That was a lot of information. Let's put it to practice.*"
      ]
    },
    {
      "cell_type": "markdown",
      "metadata": {
        "id": "WYlfiAr-aV6T"
      },
      "source": [
        "- Initialise an array x with values 1 to 10.\n",
        "    - Create a new array y that contains the first three elements of x.\n",
        "    - Create a new array z that contains the last two elements of x.\n",
        "    - Create a new array w that contains all the elements of x except the first and last element.\n",
        "    - Create a new array v with alternate elements of x starting from the first element."
      ]
    },
    {
      "cell_type": "code",
      "execution_count": null,
      "metadata": {
        "id": "1a21FbCMaV6T",
        "colab": {
          "base_uri": "https://localhost:8080/"
        },
        "outputId": "124a8634-0fb8-43b7-ed44-7e4652dcab68"
      },
      "outputs": [
        {
          "output_type": "stream",
          "name": "stdout",
          "text": [
            "y:  [1 2 3]\n",
            "z:  [ 9 10]\n",
            "w:  [2 3 4 5 6 7 8 9]\n",
            "v:  [1 3 5 7 9]\n"
          ]
        }
      ],
      "source": [
        "# < START >\n",
        "x = np.arange(1, 11)\n",
        "y = x[:3]\n",
        "z = x[-2:]\n",
        "w = x[1:-1]\n",
        "v = x[::2]\n",
        "# < END >\n",
        "\n",
        "print(\"y: \", y)\n",
        "print(\"z: \", z)\n",
        "print(\"w: \", w)\n",
        "print(\"v: \", v)"
      ]
    },
    {
      "cell_type": "markdown",
      "metadata": {
        "id": "uw6w-Q4naV6T"
      },
      "source": [
        "- Initialise a 2-D array X as follows: $$ \\begin{bmatrix}\n",
        "4 & 5 & 2 \\\\\n",
        "3 & 7 & 9 \\\\\n",
        "1 & 4 & 5 \\\\\n",
        "6 & 6 & 1\n",
        "\\end{bmatrix} $$\n",
        "    - Create a new array Y using X, that is of the form [[4, 5], [1, 4]].\n",
        "    - Create a new array Z using X, that is of the form [[5, 2], [7, 9], [4, 5]].\n"
      ]
    },
    {
      "cell_type": "code",
      "execution_count": null,
      "metadata": {
        "id": "gJC3G8YHaV6T",
        "colab": {
          "base_uri": "https://localhost:8080/"
        },
        "outputId": "f6856c02-5040-4a7f-ca1d-eb1e60c36fcb"
      },
      "outputs": [
        {
          "output_type": "stream",
          "name": "stdout",
          "text": [
            "X:  [[4 5 2]\n",
            " [3 7 9]\n",
            " [1 4 5]\n",
            " [6 6 1]]\n",
            "Y:  [[4 5]\n",
            " [1 4]]\n",
            "Z:  [[5 2]\n",
            " [7 9]\n",
            " [4 5]]\n"
          ]
        }
      ],
      "source": [
        "# < START >\n",
        "X = np.array([[4, 5, 2], [3, 7, 9], [1, 4, 5], [6, 6, 1]])\n",
        "Y = X[0:3:2, :2]\n",
        "Z = X[:-1, 1:]\n",
        "# < END >\n",
        "\n",
        "print(\"X: \", X)\n",
        "print(\"Y: \", Y)\n",
        "print(\"Z: \", Z)"
      ]
    },
    {
      "cell_type": "markdown",
      "metadata": {
        "id": "VbMbUfP9aV6T"
      },
      "source": [
        "### Broadcasting\n",
        "Broadcasting is a powerful mechanism that allows NumPy to work with arrays of different shapes when performing arithmetic operations. Frequently, we have a smaller array and a larger array, and we want to use the smaller array multiple times to perform some operation on the larger array.\n",
        "Broadcasting allows this by automatically expanding the smaller array to match the shape of the larger one, making the operation possible without explicitly reshaping the arrays. This feature enhances flexibility in array operations, enabling highly efficient algorithms while minimizing memory usage.\n",
        "\n",
        "It's important to note that broadcasting is distinct from matrix multiplication or padding; it specifically refers to how NumPy handles arrays of different shapes during arithmetic operations."
      ]
    },
    {
      "cell_type": "markdown",
      "metadata": {
        "id": "7IYvvJ17aV6T"
      },
      "source": [
        "\n",
        "- Initialise an array x with values 1 to 4.\n",
        "    - Create a new array y using x, that is of the form [[1, 2, 3, 4], [1, 2, 3, 4], [1, 2, 3, 4]].\n",
        "    - Create a new array z using x, that is of the form [[1, 1, 1, 1], [2, 2, 2, 2], [3, 3, 3, 3], [4, 4, 4, 4]].\n",
        "    - Implement broadcasting to add the arrays x and z and store the result in a new array w."
      ]
    },
    {
      "cell_type": "code",
      "execution_count": null,
      "metadata": {
        "id": "LYHtpP1uaV6U",
        "colab": {
          "base_uri": "https://localhost:8080/"
        },
        "outputId": "779a0b91-03ac-4b26-d94a-0f47c3d974b2"
      },
      "outputs": [
        {
          "output_type": "stream",
          "name": "stdout",
          "text": [
            "x:  [1 2 3 4]\n",
            "y:  [[1 2 3 4]\n",
            " [1 2 3 4]\n",
            " [1 2 3 4]]\n",
            "z:  [[1 1 1 1]\n",
            " [2 2 2 2]\n",
            " [3 3 3 3]\n",
            " [4 4 4 4]]\n",
            "w:  [[2 3 4 5]\n",
            " [3 4 5 6]\n",
            " [4 5 6 7]\n",
            " [5 6 7 8]]\n"
          ]
        }
      ],
      "source": [
        "# < START >\n",
        "x = np.arange(1, 5)\n",
        "y = np.array([x, x, x])\n",
        "z = np.transpose(np.array([x, x, x, x]))\n",
        "w = x + z\n",
        "\n",
        "# < END >\n",
        "\n",
        "print(\"x: \", x)\n",
        "print(\"y: \", y)\n",
        "print(\"z: \", z)\n",
        "print(\"w: \", w)"
      ]
    },
    {
      "cell_type": "markdown",
      "metadata": {
        "id": "2BwbGsGPaV6U"
      },
      "source": [
        "- Initialise a 2-D array X as follows: $$ \\begin{bmatrix}\n",
        "1 & 2 & 3 \\\\\n",
        "4 & 5 & 6 \\\\\n",
        "7 & 8 & 9 \\\\\n",
        "10 & 11 & 12\n",
        "\\end{bmatrix} $$\n",
        "    - Create a new array Y using X, that is of the form [[1, 2, 3], [1, 2, 3], [1, 2, 3], [1, 2, 3]].\n",
        "    - Create a new array Z using X, that is of the form [[1, 1, 1], [2, 2, 2], [3, 3, 3], [4, 4, 4]].\n",
        "    - Multiply each element of the first row of X by 4 and each element of the second row of X by 5. Store the result in a new array W. Hint : Make an array of the form [4, 5] and use broadcasting."
      ]
    },
    {
      "cell_type": "code",
      "execution_count": null,
      "metadata": {
        "id": "XaGkMpejaV6U",
        "colab": {
          "base_uri": "https://localhost:8080/"
        },
        "outputId": "5d19b459-5bc6-4ab7-f7df-ae1a25e97b9b"
      },
      "outputs": [
        {
          "output_type": "stream",
          "name": "stdout",
          "text": [
            "X:  [[ 1  2  3]\n",
            " [ 4  5  6]\n",
            " [ 7  8  9]\n",
            " [10 11 12]]\n",
            "Y:  [[1 2 3]\n",
            " [1 2 3]\n",
            " [1 2 3]\n",
            " [1 2 3]]\n",
            "Z:  [[1 1 1]\n",
            " [2 2 2]\n",
            " [3 3 3]\n",
            " [4 4 4]]\n",
            "W:  [[ 4  8 12]\n",
            " [20 25 30]\n",
            " [ 7  8  9]\n",
            " [10 11 12]]\n"
          ]
        }
      ],
      "source": [
        "# < START >\n",
        "X = np.arange(1, 13).reshape(4, 3)\n",
        "Y = np.array([X[0], X[0], X[0], X[0]])\n",
        "temp = X.flatten()[:4]\n",
        "Z = np.stack((temp, temp, temp), axis=1)\n",
        "W = X * np.array([4, 5, 1, 1]).reshape(-1, 1)\n",
        "# < END >\n",
        "\n",
        "print(\"X: \", X)\n",
        "print(\"Y: \", Y)\n",
        "print(\"Z: \", Z)\n",
        "print(\"W: \", W)"
      ]
    },
    {
      "cell_type": "markdown",
      "metadata": {
        "id": "rGPozKPcaV6U"
      },
      "source": [
        "### Vectorization\n",
        "Vectorization is the process of transforming an algorithm to operate on a set of values (a vector) simultaneously, rather than processing each value individually. This eliminates the need for explicit loops, leading to more concise, readable, and efficient code. Vectorized code is typically faster than non-vectorized code because it leverages optimized, low-level implementations in C.\n",
        "\n",
        "To highlight the benefits of vectorization, let's compare the execution times of a non-vectorized approach with a vectorized one, where the task is to multiply each element of a 2D array by 3.\n",
        "\n",
        "- Create a 2-D array `arr_nonvectorised` of dimensions $1000 \\times 1000$ with random integers. Multiply each element of the array by 3 using a non-vectorized approach and store the result in a new array Y. Calculate the time taken to perform this operation.\n",
        "- Create a copy of the original array `arr_nonvectorised` and store it in a new array `arr_vectorised`. Multiply each element of the array by 3 using a vectorized approach and store the result in a new array Z. Calculate the time taken to perform this operation.\n",
        "\n",
        "And u can see the difference in time taken by both the approaches."
      ]
    },
    {
      "cell_type": "code",
      "execution_count": null,
      "metadata": {
        "id": "Cviya-w2aV6U",
        "colab": {
          "base_uri": "https://localhost:8080/"
        },
        "outputId": "3eb77b7a-527f-4d75-ff7c-37efa019b798"
      },
      "outputs": [
        {
          "output_type": "stream",
          "name": "stdout",
          "text": [
            "Time taken in non-vectorized approach: 620.0330257415771 ms\n",
            "Time taken in vectorized approach: 4.271984100341797 ms\n"
          ]
        }
      ],
      "source": [
        "import time\n",
        "\n",
        "# Initialise both the aarays\n",
        "# < START >\n",
        "arr_nonvectorised = np.random.randint(10, size=(1000, 1000))\n",
        "arr_vectorised = arr_nonvectorised.copy()\n",
        "# < END >\n",
        "\n",
        "start_nv = time.time()\n",
        "\n",
        "# Non-vectorized approach\n",
        "# < START >\n",
        "Y = np.zeros((1000, 1000))\n",
        "for i in range(1000):\n",
        "  for j in range(1000):\n",
        "    Y[i, j] = arr_nonvectorised[i, j] * 3\n",
        "# < END >\n",
        "\n",
        "end_nv = time.time()\n",
        "\n",
        "print(\"Time taken in non-vectorized approach:\", 1000*(end_nv-start_nv), \"ms\")\n",
        "\n",
        "\n",
        "start_v = time.time()\n",
        "\n",
        "# Vectorized approach\n",
        "# < START >\n",
        "Z = arr_vectorised * 3\n",
        "# < END >\n",
        "\n",
        "end_v = time.time()\n",
        "\n",
        "print(\"Time taken in vectorized approach:\", 1000*(end_v-start_v), \"ms\")\n",
        "\n",
        "\n",
        "# Uncomment and run the following line to verify that both approaches are achieving the same result.\n",
        "# print(\"Non-vectorized array: \", Y)\n",
        "# print(\"Vectorized array: \", Z)"
      ]
    },
    {
      "cell_type": "markdown",
      "metadata": {
        "id": "GBEh1lojaV6U"
      },
      "source": [
        "Experimenting with array dimensions reveals that the execution times for smaller arrays may not differ significantly. However, in the context of neural networks, where we often work with large datasets, the importance of vectorization becomes clear. Vectorization optimizes performance by leveraging efficient array operations, making it crucial for handling the computational demands of large-scale data processing."
      ]
    },
    {
      "cell_type": "markdown",
      "metadata": {
        "id": "qrnnQNkTaV6U"
      },
      "source": [
        "Congratulations on completing this assignment!🥳 You can now move on to the next one."
      ]
    }
  ],
  "metadata": {
    "language_info": {
      "name": "python"
    },
    "colab": {
      "provenance": [],
      "include_colab_link": true
    },
    "kernelspec": {
      "name": "python3",
      "display_name": "Python 3"
    }
  },
  "nbformat": 4,
  "nbformat_minor": 0
}