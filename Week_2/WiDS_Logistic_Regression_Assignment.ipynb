{
  "cells": [
    {
      "cell_type": "markdown",
      "metadata": {
        "id": "view-in-github",
        "colab_type": "text"
      },
      "source": [
        "<a href=\"https://colab.research.google.com/github/tejask-42/Speech-Emotion-Recognition-Project/blob/main/Week_2/WiDS_Logistic_Regression_Assignment.ipynb\" target=\"_parent\"><img src=\"https://colab.research.google.com/assets/colab-badge.svg\" alt=\"Open In Colab\"/></a>"
      ]
    },
    {
      "cell_type": "markdown",
      "metadata": {
        "id": "aTAky_OS1w0P"
      },
      "source": [
        "# Logistic Regression\n",
        "\n",
        "Logistic regression is a process of modeling the probability of a discrete outcome given an input variable. The most common logistic regression models a binary outcome; something that can take two values such as true/false, yes/no, and so on.\n",
        "\n",
        "In this week you will be doing logistic regression on breast cancer dataset using sklearn library. Feel free to create any new functions required."
      ]
    },
    {
      "cell_type": "code",
      "execution_count": null,
      "metadata": {
        "id": "E56ck0_P2NR9"
      },
      "outputs": [],
      "source": [
        "#importing libraries\n",
        "from sklearn.preprocessing import StandardScaler\n",
        "from sklearn.model_selection import train_test_split\n",
        "from sklearn.metrics import accuracy_score\n",
        "from sklearn import datasets\n",
        "import numpy as np"
      ]
    },
    {
      "cell_type": "markdown",
      "metadata": {
        "id": "qojSAol72cmH"
      },
      "source": [
        "Preparing Data"
      ]
    },
    {
      "cell_type": "code",
      "execution_count": null,
      "metadata": {
        "id": "_uUSV8Xk2ePh"
      },
      "outputs": [],
      "source": [
        "breast_cancer = datasets.load_breast_cancer()\n",
        "X, y = breast_cancer.data, breast_cancer.target"
      ]
    },
    {
      "cell_type": "code",
      "execution_count": null,
      "metadata": {
        "id": "N6jcbk5g29XW"
      },
      "outputs": [],
      "source": [
        "#spliting data for training and testing\n",
        "X_train, X_test, y_train, y_test = train_test_split(X, y, test_size=0.2, random_state=1234)\n",
        "sc = StandardScaler()\n",
        "X_train = sc.fit_transform(X_train)\n",
        "X_test = sc.transform(X_test)"
      ]
    },
    {
      "cell_type": "markdown",
      "metadata": {
        "id": "R4ldHUJs3d2V"
      },
      "source": [
        "Binary cross entropy loss"
      ]
    },
    {
      "cell_type": "code",
      "execution_count": null,
      "metadata": {
        "id": "QkXgo04D3dGW"
      },
      "outputs": [],
      "source": [
        "def BCELoss(y,y_pred):\n",
        "  y_pred = np.clip(y_pred, 1e-7, 1 - 1e-7) # to avoid log 0\n",
        "  loss = -np.mean(y * np.log(y_pred) + (1 - y) * np.log(1 - y_pred))\n",
        "  return loss"
      ]
    },
    {
      "cell_type": "markdown",
      "metadata": {
        "id": "OIuuOJcJ3sti"
      },
      "source": [
        "Develop a logistic regression model from scratch. Once the model is trained, evaluate its performance by calculating both the accuracy and the cross-entropy loss."
      ]
    },
    {
      "cell_type": "code",
      "execution_count": null,
      "metadata": {
        "id": "gBJ6H_ss3yUr"
      },
      "outputs": [],
      "source": [
        "class LogisticRegression:\n",
        "    def __init__(self, lr=0.1, iters=1000): #lr (learning rate) & iters (iterations) could be anything of your choice\n",
        "      self.lr = lr\n",
        "      self.iters = iters\n",
        "\n",
        "    def sigmoid(self, X):\n",
        "      return 1 / (1 + np.exp(-(X.dot(self.W) + self.b)))\n",
        "\n",
        "    def fit(self, X, y):\n",
        "      self.m, self.n = X.shape\n",
        "      self.W = np.zeros(self.n) # weights\n",
        "      self.b = 0 # bias\n",
        "      self.X = X\n",
        "      self.y = y\n",
        "      for i in range(self.iters):\n",
        "        self.update_weights()\n",
        "      return self\n",
        "\n",
        "    def predict(self, X):\n",
        "      Z = self.sigmoid(X)\n",
        "      Y = np.where(Z > 0.5, 1, 0)\n",
        "      return Y\n",
        "\n",
        "    def update_weights(self):\n",
        "      A = self.sigmoid(self.X)\n",
        "      tmp = A - self.y.T # error matrix\n",
        "      tmp = np.reshape(tmp, self.m) # reshaped to 1D\n",
        "      dW = np.dot(self.X.T, tmp) / self.m # weighted with errors and normalised\n",
        "      db = np.sum(tmp) / self.m # average error -> bias\n",
        "      self.W = self.W - self.lr * dW # going opposite of gradient\n",
        "      self.b = self.b - self.lr * db\n",
        "      return self"
      ]
    },
    {
      "cell_type": "code",
      "source": [
        "model = LogisticRegression()\n",
        "model.fit(X_train, y_train)\n",
        "y_pred = model.predict(X_test)\n",
        "accuracy = accuracy_score(y_test, y_pred)\n",
        "loss = BCELoss(y_test, y_pred)\n",
        "print(\"Accuracy:\", round(accuracy*100, 2), \"%\")\n",
        "print(\"Loss:\", round(loss*100, 2), \"%\")"
      ],
      "metadata": {
        "colab": {
          "base_uri": "https://localhost:8080/"
        },
        "id": "nbN1Ps9PcuAT",
        "outputId": "595d7f9d-6765-451b-bd1a-c0deb8453c28"
      },
      "execution_count": null,
      "outputs": [
        {
          "output_type": "stream",
          "name": "stdout",
          "text": [
            "Accuracy: 95.61 %\n",
            "Loss: 70.69 %\n"
          ]
        }
      ]
    }
  ],
  "metadata": {
    "colab": {
      "provenance": [],
      "include_colab_link": true
    },
    "kernelspec": {
      "display_name": "Python 3",
      "name": "python3"
    },
    "language_info": {
      "name": "python"
    }
  },
  "nbformat": 4,
  "nbformat_minor": 0
}